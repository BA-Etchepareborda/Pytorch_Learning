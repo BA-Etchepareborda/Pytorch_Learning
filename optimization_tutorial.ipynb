{
  "cells": [
    {
      "cell_type": "code",
      "execution_count": 1,
      "metadata": {
        "id": "jB4i3d50qMMM"
      },
      "outputs": [],
      "source": [
        "# For tips on running notebooks in Google Colab, see\n",
        "# https://pytorch.org/tutorials/beginner/colab\n",
        "%matplotlib inline"
      ]
    },
    {
      "cell_type": "markdown",
      "metadata": {
        "id": "2vKTTRfsqMMP"
      },
      "source": [
        "[Learn the Basics](intro.html) \\|\\|\n",
        "[Quickstart](quickstart_tutorial.html) \\|\\|\n",
        "[Tensors](tensorqs_tutorial.html) \\|\\| [Datasets &\n",
        "DataLoaders](data_tutorial.html) \\|\\|\n",
        "[Transforms](transforms_tutorial.html) \\|\\| [Build\n",
        "Model](buildmodel_tutorial.html) \\|\\|\n",
        "[Autograd](autogradqs_tutorial.html) \\|\\| **Optimization** \\|\\| [Save &\n",
        "Load Model](saveloadrun_tutorial.html)\n",
        "\n",
        "Optimizing Model Parameters\n",
        "===========================\n",
        "\n",
        "Now that we have a model and data it\\'s time to train, validate and test\n",
        "our model by optimizing its parameters on our data. Training a model is\n",
        "an iterative process; in each iteration the model makes a guess about\n",
        "the output, calculates the error in its guess (*loss*), collects the\n",
        "derivatives of the error with respect to its parameters (as we saw in\n",
        "the [previous section](autograd_tutorial.html)), and **optimizes** these\n",
        "parameters using gradient descent. For a more detailed walkthrough of\n",
        "this process, check out this video on [backpropagation from\n",
        "3Blue1Brown](https://www.youtube.com/watch?v=tIeHLnjs5U8).\n",
        "\n",
        "Prerequisite Code\n",
        "-----------------\n",
        "\n",
        "We load the code from the previous sections on [Datasets &\n",
        "DataLoaders](data_tutorial.html) and [Build\n",
        "Model](buildmodel_tutorial.html).\n"
      ]
    },
    {
      "cell_type": "code",
      "execution_count": 1,
      "metadata": {
        "id": "FdBmAZTTqMMS",
        "outputId": "a33f074f-1f3d-430c-f026-26402d473cfe",
        "colab": {
          "base_uri": "https://localhost:8080/"
        }
      },
      "outputs": [
        {
          "output_type": "stream",
          "name": "stderr",
          "text": [
            "100%|██████████| 26.4M/26.4M [00:02<00:00, 10.5MB/s]\n",
            "100%|██████████| 29.5k/29.5k [00:00<00:00, 165kB/s]\n",
            "100%|██████████| 4.42M/4.42M [00:01<00:00, 3.08MB/s]\n",
            "100%|██████████| 5.15k/5.15k [00:00<00:00, 15.0MB/s]\n"
          ]
        }
      ],
      "source": [
        "import torch\n",
        "from torch import nn\n",
        "from torch.utils.data import DataLoader\n",
        "from torchvision import datasets\n",
        "from torchvision.transforms import ToTensor\n",
        "\n",
        "training_data = datasets.FashionMNIST(\n",
        "    root=\"data\",\n",
        "    train=True,\n",
        "    download=True,\n",
        "    transform=ToTensor()\n",
        ")\n",
        "\n",
        "test_data = datasets.FashionMNIST(\n",
        "    root=\"data\",\n",
        "    train=False,\n",
        "    download=True,\n",
        "    transform=ToTensor()\n",
        ")\n",
        "\n",
        "train_dataloader = DataLoader(training_data, batch_size=64)\n",
        "test_dataloader = DataLoader(test_data, batch_size=64)\n",
        "\n",
        "class NeuralNetwork(nn.Module):\n",
        "    def __init__(self):\n",
        "        super().__init__()\n",
        "        self.flatten = nn.Flatten()\n",
        "        self.linear_relu_stack = nn.Sequential(\n",
        "            nn.Linear(28*28, 512),\n",
        "            nn.ReLU(),\n",
        "            nn.Linear(512, 512),\n",
        "            nn.ReLU(),\n",
        "            nn.Linear(512, 10),\n",
        "        )\n",
        "\n",
        "    def forward(self, x):\n",
        "        x = self.flatten(x)\n",
        "        logits = self.linear_relu_stack(x)\n",
        "        return logits\n",
        "\n",
        "model = NeuralNetwork()"
      ]
    },
    {
      "cell_type": "markdown",
      "metadata": {
        "id": "JITDSClFqMMe"
      },
      "source": [
        "Hyperparameters\n",
        "===============\n",
        "\n",
        "Hyperparameters are adjustable parameters that let you control the model\n",
        "optimization process. Different hyperparameter values can impact model\n",
        "training and convergence rates ([read\n",
        "more](https://pytorch.org/tutorials/beginner/hyperparameter_tuning_tutorial.html)\n",
        "about hyperparameter tuning)\n",
        "\n",
        "We define the following hyperparameters for training:\n",
        "\n",
        ":   -   **Number of Epochs** - the number of times to iterate over the\n",
        "        dataset\n",
        "    -   **Batch Size** - the number of data samples propagated through\n",
        "        the network before the parameters are updated\n",
        "    -   **Learning Rate** - how much to update models parameters at each\n",
        "        batch/epoch. Smaller values yield slow learning speed, while\n",
        "        large values may result in unpredictable behavior during\n",
        "        training.\n"
      ]
    },
    {
      "cell_type": "code",
      "execution_count": 2,
      "metadata": {
        "id": "fbYqavmhqMMh"
      },
      "outputs": [],
      "source": [
        "learning_rate = 1e-3\n",
        "batch_size = 64\n",
        "epochs = 5"
      ]
    },
    {
      "cell_type": "markdown",
      "metadata": {
        "id": "ehDAtTxhqMMj"
      },
      "source": [
        "Optimization Loop\n",
        "=================\n",
        "\n",
        "Once we set our hyperparameters, we can then train and optimize our\n",
        "model with an optimization loop. Each iteration of the optimization loop\n",
        "is called an **epoch**.\n",
        "\n",
        "Each epoch consists of two main parts:\n",
        "\n",
        ":   -   **The Train Loop** - iterate over the training dataset and try\n",
        "        to converge to optimal parameters.\n",
        "    -   **The Validation/Test Loop** - iterate over the test dataset to\n",
        "        check if model performance is improving.\n",
        "\n",
        "Let\\'s briefly familiarize ourselves with some of the concepts used in\n",
        "the training loop. Jump ahead to see the\n",
        "`full-impl-label`{.interpreted-text role=\"ref\"} of the optimization\n",
        "loop.\n",
        "\n",
        "Loss Function\n",
        "-------------\n",
        "\n",
        "When presented with some training data, our untrained network is likely\n",
        "not to give the correct answer. **Loss function** measures the degree of\n",
        "dissimilarity of obtained result to the target value, and it is the loss\n",
        "function that we want to minimize during training. To calculate the loss\n",
        "we make a prediction using the inputs of our given data sample and\n",
        "compare it against the true data label value.\n",
        "\n",
        "Common loss functions include\n",
        "[nn.MSELoss](https://pytorch.org/docs/stable/generated/torch.nn.MSELoss.html#torch.nn.MSELoss)\n",
        "(Mean Square Error) for regression tasks, and\n",
        "[nn.NLLLoss](https://pytorch.org/docs/stable/generated/torch.nn.NLLLoss.html#torch.nn.NLLLoss)\n",
        "(Negative Log Likelihood) for classification.\n",
        "[nn.CrossEntropyLoss](https://pytorch.org/docs/stable/generated/torch.nn.CrossEntropyLoss.html#torch.nn.CrossEntropyLoss)\n",
        "combines `nn.LogSoftmax` and `nn.NLLLoss`.\n",
        "\n",
        "We pass our model\\'s output logits to `nn.CrossEntropyLoss`, which will\n",
        "normalize the logits and compute the prediction error.\n"
      ]
    },
    {
      "cell_type": "code",
      "execution_count": 3,
      "metadata": {
        "id": "DACE3yGEqMMl"
      },
      "outputs": [],
      "source": [
        "# Initialize the loss function\n",
        "loss_fn = nn.CrossEntropyLoss()"
      ]
    },
    {
      "cell_type": "markdown",
      "metadata": {
        "id": "RJA9bc9kqMMm"
      },
      "source": [
        "Optimizer\n",
        "=========\n",
        "\n",
        "Optimization is the process of adjusting model parameters to reduce\n",
        "model error in each training step. **Optimization algorithms** define\n",
        "how this process is performed (in this example we use Stochastic\n",
        "Gradient Descent). All optimization logic is encapsulated in the\n",
        "`optimizer` object. Here, we use the SGD optimizer; additionally, there\n",
        "are many [different\n",
        "optimizers](https://pytorch.org/docs/stable/optim.html) available in\n",
        "PyTorch such as ADAM and RMSProp, that work better for different kinds\n",
        "of models and data.\n",
        "\n",
        "We initialize the optimizer by registering the model\\'s parameters that\n",
        "need to be trained, and passing in the learning rate hyperparameter.\n"
      ]
    },
    {
      "cell_type": "code",
      "execution_count": 4,
      "metadata": {
        "id": "l6Jii-xSqMMo"
      },
      "outputs": [],
      "source": [
        "optimizer = torch.optim.SGD(model.parameters(), lr=learning_rate)"
      ]
    },
    {
      "cell_type": "markdown",
      "metadata": {
        "id": "JrOCJXwnqMMs"
      },
      "source": [
        "Inside the training loop, optimization happens in three steps:\n",
        "\n",
        ":   -   Call `optimizer.zero_grad()` to reset the gradients of model\n",
        "        parameters. Gradients by default add up; to prevent\n",
        "        double-counting, we explicitly zero them at each iteration.\n",
        "    -   Backpropagate the prediction loss with a call to\n",
        "        `loss.backward()`. PyTorch deposits the gradients of the loss\n",
        "        w.r.t. each parameter.\n",
        "    -   Once we have our gradients, we call `optimizer.step()` to adjust\n",
        "        the parameters by the gradients collected in the backward pass.\n"
      ]
    },
    {
      "cell_type": "markdown",
      "metadata": {
        "id": "jFVJaObyqMMu"
      },
      "source": [
        "Full Implementation {#full-impl-label}\n",
        "===================\n",
        "\n",
        "We define `train_loop` that loops over our optimization code, and\n",
        "`test_loop` that evaluates the model\\'s performance against our test\n",
        "data.\n"
      ]
    },
    {
      "cell_type": "code",
      "execution_count": 6,
      "metadata": {
        "id": "4WDCLj4-qMMw"
      },
      "outputs": [],
      "source": [
        "def train_loop(dataloader, model, loss_fn, optimizer):\n",
        "    size = len(dataloader.dataset)\n",
        "    # Set the model to training mode - important for batch normalization and dropout layers\n",
        "    # Unnecessary in this situation but added for best practices\n",
        "    model.train()\n",
        "    for batch, (X, y) in enumerate(dataloader):\n",
        "        # Compute prediction and loss\n",
        "        pred = model(X)\n",
        "        loss = loss_fn(pred, y)\n",
        "\n",
        "        # Backpropagation\n",
        "        loss.backward()\n",
        "        optimizer.step()\n",
        "        optimizer.zero_grad()\n",
        "\n",
        "        if batch % 100 == 0:\n",
        "            loss, current = loss.item(), batch * batch_size + len(X)\n",
        "            print(f\"loss: {loss:>7f}  [{current:>5d}/{size:>5d}]\")\n",
        "\n",
        "\n",
        "def test_loop(dataloader, model, loss_fn):\n",
        "    # Set the model to evaluation mode - important for batch normalization and dropout layers\n",
        "    # Unnecessary in this situation but added for best practices\n",
        "    model.eval()\n",
        "    size = len(dataloader.dataset)\n",
        "    num_batches = len(dataloader)\n",
        "    test_loss, correct = 0, 0\n",
        "\n",
        "    # Evaluating the model with torch.no_grad() ensures that no gradients are computed during test mode\n",
        "    # also serves to reduce unnecessary gradient computations and memory usage for tensors with requires_grad=True\n",
        "    with torch.no_grad():\n",
        "        for X, y in dataloader:\n",
        "            pred = model(X)\n",
        "            test_loss += loss_fn(pred, y).item()\n",
        "            correct += (pred.argmax(1) == y).type(torch.float).sum().item()\n",
        "\n",
        "    test_loss /= num_batches\n",
        "    correct /= size\n",
        "    print(f\"Test Error: \\n Accuracy: {(100*correct):>0.1f}%, Avg loss: {test_loss:>8f} \\n\")"
      ]
    },
    {
      "cell_type": "markdown",
      "metadata": {
        "id": "kQcP_DGbqMMy"
      },
      "source": [
        "We initialize the loss function and optimizer, and pass it to\n",
        "`train_loop` and `test_loop`. Feel free to increase the number of epochs\n",
        "to track the model\\'s improving performance.\n"
      ]
    },
    {
      "cell_type": "code",
      "execution_count": 7,
      "metadata": {
        "id": "1n9p8KMrqMMz",
        "outputId": "4bb75960-db86-4417-a573-79ad5cc45522",
        "colab": {
          "base_uri": "https://localhost:8080/"
        }
      },
      "outputs": [
        {
          "output_type": "stream",
          "name": "stdout",
          "text": [
            "Epoch 1\n",
            "-------------------------------\n",
            "loss: 2.303292  [   64/60000]\n",
            "loss: 2.290813  [ 6464/60000]\n",
            "loss: 2.264985  [12864/60000]\n",
            "loss: 2.262780  [19264/60000]\n",
            "loss: 2.238372  [25664/60000]\n",
            "loss: 2.214745  [32064/60000]\n",
            "loss: 2.216897  [38464/60000]\n",
            "loss: 2.188079  [44864/60000]\n",
            "loss: 2.183387  [51264/60000]\n",
            "loss: 2.150398  [57664/60000]\n",
            "Test Error: \n",
            " Accuracy: 53.4%, Avg loss: 2.144611 \n",
            "\n",
            "Epoch 2\n",
            "-------------------------------\n",
            "loss: 2.156476  [   64/60000]\n",
            "loss: 2.147765  [ 6464/60000]\n",
            "loss: 2.077723  [12864/60000]\n",
            "loss: 2.099787  [19264/60000]\n",
            "loss: 2.039372  [25664/60000]\n",
            "loss: 1.982547  [32064/60000]\n",
            "loss: 2.006588  [38464/60000]\n",
            "loss: 1.931973  [44864/60000]\n",
            "loss: 1.931001  [51264/60000]\n",
            "loss: 1.853178  [57664/60000]\n",
            "Test Error: \n",
            " Accuracy: 57.0%, Avg loss: 1.854820 \n",
            "\n",
            "Epoch 3\n",
            "-------------------------------\n",
            "loss: 1.892667  [   64/60000]\n",
            "loss: 1.865793  [ 6464/60000]\n",
            "loss: 1.731521  [12864/60000]\n",
            "loss: 1.780437  [19264/60000]\n",
            "loss: 1.670957  [25664/60000]\n",
            "loss: 1.620746  [32064/60000]\n",
            "loss: 1.646106  [38464/60000]\n",
            "loss: 1.555223  [44864/60000]\n",
            "loss: 1.577419  [51264/60000]\n",
            "loss: 1.464049  [57664/60000]\n",
            "Test Error: \n",
            " Accuracy: 61.5%, Avg loss: 1.489624 \n",
            "\n",
            "Epoch 4\n",
            "-------------------------------\n",
            "loss: 1.562163  [   64/60000]\n",
            "loss: 1.534227  [ 6464/60000]\n",
            "loss: 1.371074  [12864/60000]\n",
            "loss: 1.448941  [19264/60000]\n",
            "loss: 1.327981  [25664/60000]\n",
            "loss: 1.321920  [32064/60000]\n",
            "loss: 1.340042  [38464/60000]\n",
            "loss: 1.276421  [44864/60000]\n",
            "loss: 1.305366  [51264/60000]\n",
            "loss: 1.198210  [57664/60000]\n",
            "Test Error: \n",
            " Accuracy: 64.0%, Avg loss: 1.233457 \n",
            "\n",
            "Epoch 5\n",
            "-------------------------------\n",
            "loss: 1.313318  [   64/60000]\n",
            "loss: 1.303846  [ 6464/60000]\n",
            "loss: 1.127419  [12864/60000]\n",
            "loss: 1.235772  [19264/60000]\n",
            "loss: 1.103778  [25664/60000]\n",
            "loss: 1.129918  [32064/60000]\n",
            "loss: 1.153537  [38464/60000]\n",
            "loss: 1.105651  [44864/60000]\n",
            "loss: 1.135068  [51264/60000]\n",
            "loss: 1.043617  [57664/60000]\n",
            "Test Error: \n",
            " Accuracy: 65.2%, Avg loss: 1.074950 \n",
            "\n",
            "Epoch 6\n",
            "-------------------------------\n",
            "loss: 1.148117  [   64/60000]\n",
            "loss: 1.159219  [ 6464/60000]\n",
            "loss: 0.966698  [12864/60000]\n",
            "loss: 1.101906  [19264/60000]\n",
            "loss: 0.966934  [25664/60000]\n",
            "loss: 1.002266  [32064/60000]\n",
            "loss: 1.039489  [38464/60000]\n",
            "loss: 0.996971  [44864/60000]\n",
            "loss: 1.024310  [51264/60000]\n",
            "loss: 0.946806  [57664/60000]\n",
            "Test Error: \n",
            " Accuracy: 66.1%, Avg loss: 0.972960 \n",
            "\n",
            "Epoch 7\n",
            "-------------------------------\n",
            "loss: 1.034135  [   64/60000]\n",
            "loss: 1.065177  [ 6464/60000]\n",
            "loss: 0.856546  [12864/60000]\n",
            "loss: 1.013161  [19264/60000]\n",
            "loss: 0.881287  [25664/60000]\n",
            "loss: 0.912614  [32064/60000]\n",
            "loss: 0.965040  [38464/60000]\n",
            "loss: 0.925537  [44864/60000]\n",
            "loss: 0.947501  [51264/60000]\n",
            "loss: 0.881070  [57664/60000]\n",
            "Test Error: \n",
            " Accuracy: 67.1%, Avg loss: 0.903459 \n",
            "\n",
            "Epoch 8\n",
            "-------------------------------\n",
            "loss: 0.950111  [   64/60000]\n",
            "loss: 0.999427  [ 6464/60000]\n",
            "loss: 0.777217  [12864/60000]\n",
            "loss: 0.950845  [19264/60000]\n",
            "loss: 0.824208  [25664/60000]\n",
            "loss: 0.847206  [32064/60000]\n",
            "loss: 0.912471  [38464/60000]\n",
            "loss: 0.877459  [44864/60000]\n",
            "loss: 0.891986  [51264/60000]\n",
            "loss: 0.833285  [57664/60000]\n",
            "Test Error: \n",
            " Accuracy: 68.0%, Avg loss: 0.853413 \n",
            "\n",
            "Epoch 9\n",
            "-------------------------------\n",
            "loss: 0.885533  [   64/60000]\n",
            "loss: 0.950120  [ 6464/60000]\n",
            "loss: 0.717781  [12864/60000]\n",
            "loss: 0.904765  [19264/60000]\n",
            "loss: 0.783320  [25664/60000]\n",
            "loss: 0.798328  [32064/60000]\n",
            "loss: 0.872702  [38464/60000]\n",
            "loss: 0.843782  [44864/60000]\n",
            "loss: 0.850233  [51264/60000]\n",
            "loss: 0.796418  [57664/60000]\n",
            "Test Error: \n",
            " Accuracy: 69.2%, Avg loss: 0.815452 \n",
            "\n",
            "Epoch 10\n",
            "-------------------------------\n",
            "loss: 0.833737  [   64/60000]\n",
            "loss: 0.910704  [ 6464/60000]\n",
            "loss: 0.671460  [12864/60000]\n",
            "loss: 0.869175  [19264/60000]\n",
            "loss: 0.752277  [25664/60000]\n",
            "loss: 0.761285  [32064/60000]\n",
            "loss: 0.840434  [38464/60000]\n",
            "loss: 0.818804  [44864/60000]\n",
            "loss: 0.817616  [51264/60000]\n",
            "loss: 0.766576  [57664/60000]\n",
            "Test Error: \n",
            " Accuracy: 70.4%, Avg loss: 0.785215 \n",
            "\n",
            "Done!\n"
          ]
        }
      ],
      "source": [
        "loss_fn = nn.CrossEntropyLoss()\n",
        "optimizer = torch.optim.SGD(model.parameters(), lr=learning_rate)\n",
        "\n",
        "epochs = 10\n",
        "for t in range(epochs):\n",
        "    print(f\"Epoch {t+1}\\n-------------------------------\")\n",
        "    train_loop(train_dataloader, model, loss_fn, optimizer)\n",
        "    test_loop(test_dataloader, model, loss_fn)\n",
        "print(\"Done!\")"
      ]
    },
    {
      "cell_type": "markdown",
      "metadata": {
        "id": "9fEcl56uqMM0"
      },
      "source": [
        "Further Reading\n",
        "===============\n",
        "\n",
        "-   [Loss\n",
        "    Functions](https://pytorch.org/docs/stable/nn.html#loss-functions)\n",
        "-   [torch.optim](https://pytorch.org/docs/stable/optim.html)\n",
        "-   [Warmstart Training a\n",
        "    Model](https://pytorch.org/tutorials/recipes/recipes/warmstarting_model_using_parameters_from_a_different_model.html)\n"
      ]
    },
    {
      "cell_type": "code",
      "source": [],
      "metadata": {
        "id": "nqFDCwAErlxN"
      },
      "execution_count": null,
      "outputs": []
    }
  ],
  "metadata": {
    "kernelspec": {
      "display_name": "Python 3",
      "name": "python3"
    },
    "language_info": {
      "codemirror_mode": {
        "name": "ipython",
        "version": 3
      },
      "file_extension": ".py",
      "mimetype": "text/x-python",
      "name": "python",
      "nbconvert_exporter": "python",
      "pygments_lexer": "ipython3",
      "version": "3.10.12"
    },
    "colab": {
      "provenance": [],
      "gpuType": "T4"
    },
    "accelerator": "GPU"
  },
  "nbformat": 4,
  "nbformat_minor": 0
}